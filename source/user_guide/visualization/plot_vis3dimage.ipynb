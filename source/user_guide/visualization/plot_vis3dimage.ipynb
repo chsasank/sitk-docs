{
  "nbformat": 4,
  "cells": [
    {
      "outputs": [],
      "source": [
        "%matplotlib inline"
      ],
      "execution_count": null,
      "metadata": {
        "collapsed": false
      },
      "cell_type": "code"
    },
    {
      "source": [
        "\nVisualizing 3D images\n======================\n\nIn previous guide, we've seen how to visualize 2d images. We've written a\nfunction ``myshow`` which we will be using in this guide.\n\nNow lets move on to visualizing real MRI images. The Surgical Planning\nLaboratory at Brigham and Women's Hospital has a wonderful\n`Multi-modality MRI-based Atlas of the Brain <http://www.spl.harvard.edu/publications/item/view/2037>`_ that we can use.\n\nPlease note, what is done here is for convenience and is not the common way\nimages are displayed for radiological work.\n\nGet Images\n----------\n\n"
      ],
      "metadata": {},
      "cell_type": "markdown"
    },
    {
      "outputs": [],
      "source": [
        "import matplotlib.pyplot as plt\nimport SimpleITK as sitk\nfrom downloaddata import fetch_data as fdata\nfrom myshow import myshow\n\nimg_T1 = sitk.ReadImage(\n    fdata(\"nac-hncma-atlas2013-Slicer4Version/Data/A1_grayT1.nrrd\"))\nimg_T2 = sitk.ReadImage(\n    fdata(\"nac-hncma-atlas2013-Slicer4Version/Data/A1_grayT2.nrrd\"))\nimg_labels = sitk.ReadImage(\n    fdata(\"nac-hncma-atlas2013-Slicer4Version/Data/hncma-atlas.nrrd\"))\n\nmyshow(img_T1, title='T1')\nmyshow(img_T2, title='T2')\nmyshow(sitk.LabelToRGB(img_labels), title='lables')"
      ],
      "execution_count": null,
      "metadata": {
        "collapsed": false
      },
      "cell_type": "code"
    },
    {
      "source": [
        "Visualize another axis.\n\n"
      ],
      "metadata": {},
      "cell_type": "markdown"
    },
    {
      "outputs": [],
      "source": [
        "size = img_T1.GetSize()\nmyshow(img_T1[:, size[1] // 2, :])"
      ],
      "execution_count": null,
      "metadata": {
        "collapsed": false
      },
      "cell_type": "code"
    },
    {
      "source": [
        "Let's visualize all three orthogonal views. You can use ``sitk.Tile`` for\ntiling images.\n\n"
      ],
      "metadata": {},
      "cell_type": "markdown"
    },
    {
      "outputs": [],
      "source": [
        "slices = [img_T1[size[0] // 2, :, :], img_T1[:, size[1] // 2, :],\n          img_T1[:, :, size[2] // 2]]\nmyshow(sitk.Tile(slices, [3, 1]), dpi=20)"
      ],
      "execution_count": null,
      "metadata": {
        "collapsed": false
      },
      "cell_type": "code"
    },
    {
      "source": [
        "Visualize 5 slices in one axis.\n\n"
      ],
      "metadata": {},
      "cell_type": "markdown"
    },
    {
      "outputs": [],
      "source": [
        "nslices = 5\nslices = [img_T1[:, :, s] for s in range(0, size[2], size[0] // (nslices + 1))]\nmyshow(sitk.Tile(slices, [1, 0]), dpi=100)"
      ],
      "execution_count": null,
      "metadata": {
        "collapsed": false
      },
      "cell_type": "code"
    },
    {
      "source": [
        "Let's create a version of the show methods which allows the selection of\nslices to be displayed.\n\n"
      ],
      "metadata": {},
      "cell_type": "markdown"
    },
    {
      "outputs": [],
      "source": [
        "def myshow3d(img, xslices=[], yslices=[], zslices=[], title=None, margin=0.05,\n             dpi=80):\n    img_xslices = [img[s, :, :] for s in xslices]\n    img_yslices = [img[:, s, :] for s in yslices]\n    img_zslices = [img[:, :, s] for s in zslices]\n\n    maxlen = max(len(img_xslices), len(img_yslices), len(img_zslices))\n\n    img_null = sitk.Image([0, 0], img.GetPixelID(),\n                          img.GetNumberOfComponentsPerPixel())\n\n    img_slices = []\n    d = 0\n\n    if len(img_xslices):\n        img_slices += img_xslices + [img_null] * (maxlen - len(img_xslices))\n        d += 1\n\n    if len(img_yslices):\n        img_slices += img_yslices + [img_null] * (maxlen - len(img_yslices))\n        d += 1\n\n    if len(img_zslices):\n        img_slices += img_zslices + [img_null] * (maxlen - len(img_zslices))\n        d += 1\n\n    if maxlen != 0:\n        if img.GetNumberOfComponentsPerPixel() == 1:\n            img = sitk.Tile(img_slices, [maxlen, d])\n        # TO DO check in code to get Tile Filter working with vector images\n        else:\n            img_comps = []\n            for i in range(0, img.GetNumberOfComponentsPerPixel()):\n                img_slices_c = [sitk.VectorIndexSelectionCast(s, i)\n                                for s in img_slices]\n                img_comps.append(sitk.Tile(img_slices_c, [maxlen, d]))\n            img = sitk.Compose(img_comps)\n\n    myshow(img, title, margin, dpi)\n\nmyshow3d(img_T1, yslices=range(50, size[1] - 50, 20),\n         zslices=range(50, size[2] - 50, 20), dpi=100)"
      ],
      "execution_count": null,
      "metadata": {
        "collapsed": false
      },
      "cell_type": "code"
    },
    {
      "outputs": [],
      "source": [
        "myshow3d(img_T2, yslices=range(50, size[1] - 50, 30),\n         zslices=range(50, size[2] - 50, 20), dpi=100)"
      ],
      "execution_count": null,
      "metadata": {
        "collapsed": false
      },
      "cell_type": "code"
    },
    {
      "outputs": [],
      "source": [
        "myshow3d(sitk.LabelToRGB(img_labels), yslices=range(50, size[1] - 50, 20),\n         zslices=range(50, size[2] - 50, 20), dpi=100)"
      ],
      "execution_count": null,
      "metadata": {
        "collapsed": false
      },
      "cell_type": "code"
    }
  ],
  "nbformat_minor": 0,
  "metadata": {
    "language_info": {
      "pygments_lexer": "ipython3",
      "codemirror_mode": {
        "version": 3,
        "name": "ipython"
      },
      "nbconvert_exporter": "python",
      "version": "3.4.5",
      "mimetype": "text/x-python",
      "file_extension": ".py",
      "name": "python"
    },
    "kernelspec": {
      "language": "python",
      "display_name": "Python 3",
      "name": "python3"
    }
  }
}