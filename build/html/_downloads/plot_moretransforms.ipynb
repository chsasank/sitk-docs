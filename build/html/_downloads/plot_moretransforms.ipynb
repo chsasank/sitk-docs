{
  "nbformat": 4,
  "metadata": {
    "language_info": {
      "pygments_lexer": "ipython3",
      "file_extension": ".py",
      "codemirror_mode": {
        "version": 3,
        "name": "ipython"
      },
      "version": "3.4.5",
      "mimetype": "text/x-python",
      "nbconvert_exporter": "python",
      "name": "python"
    },
    "kernelspec": {
      "display_name": "Python 3",
      "name": "python3",
      "language": "python"
    }
  },
  "cells": [
    {
      "outputs": [],
      "source": [
        "%matplotlib inline"
      ],
      "cell_type": "code",
      "execution_count": null,
      "metadata": {
        "collapsed": false
      }
    },
    {
      "source": [
        "\nMore details about Transforms\n*****************************\n\n\nThis guide introduces the transformation types supported by SimpleITK and \nillustrates how to \"promote\" transformations from a lower to higher parameter \nspace (e.g. 3D translation to 3D rigid).\n    :backlinks: none\n\n**SimpleITK Transformation Types**\n\n\n+----------------------------------------------------------------------------------------------------------------+--------------------------------------------------------------------------------------------------------------------------------------------------------------------------------------------------------+\n| `TranslationTransform <http://www.itk.org/Doxygen/html/classitk_1_1TranslationTransform.html>`__               | 2D or 3D, translation                                                                                                                                                                                  |\n+----------------------------------------------------------------------------------------------------------------+--------------------------------------------------------------------------------------------------------------------------------------------------------------------------------------------------------+\n| `VersorTransform <http://www.itk.org/Doxygen/html/classitk_1_1VersorTransform.html>`__                         | 3D, rotation represented by a versor                                                                                                                                                                   |\n+----------------------------------------------------------------------------------------------------------------+--------------------------------------------------------------------------------------------------------------------------------------------------------------------------------------------------------+\n| `VersorRigid3DTransform <http://www.itk.org/Doxygen/html/classitk_1_1VersorRigid3DTransform.html>`__           | 3D, rigid transformation with rotation represented by a versor                                                                                                                                         |\n+----------------------------------------------------------------------------------------------------------------+--------------------------------------------------------------------------------------------------------------------------------------------------------------------------------------------------------+\n| `Euler2DTransform <http://www.itk.org/Doxygen/html/classitk_1_1Euler2DTransform.html>`__                       | 2D, rigid transformation with rotation represented by a Euler angle                                                                                                                                    |\n+----------------------------------------------------------------------------------------------------------------+--------------------------------------------------------------------------------------------------------------------------------------------------------------------------------------------------------+\n| `Euler3DTransform <http://www.itk.org/Doxygen/html/classitk_1_1Euler3DTransform.html>`__                       | 3D, rigid transformation with rotation represented by Euler angles                                                                                                                                     |\n+----------------------------------------------------------------------------------------------------------------+--------------------------------------------------------------------------------------------------------------------------------------------------------------------------------------------------------+\n| `Similarity2DTransform <http://www.itk.org/Doxygen/html/classitk_1_1Similarity2DTransform.html>`__             | 2D, composition of isotropic scaling and rigid transformation with rotation represented by a Euler angle                                                                                               |\n+----------------------------------------------------------------------------------------------------------------+--------------------------------------------------------------------------------------------------------------------------------------------------------------------------------------------------------+\n| `Similarity3DTransform <http://www.itk.org/Doxygen/html/classitk_1_1Similarity3DTransform.html>`__             | 3D, composition of isotropic scaling and rigid transformation with rotation represented by a versor                                                                                                    |\n+----------------------------------------------------------------------------------------------------------------+--------------------------------------------------------------------------------------------------------------------------------------------------------------------------------------------------------+\n| `ScaleTransform <http://www.itk.org/Doxygen/html/classitk_1_1ScaleTransform.html>`__                           | 2D or 3D, anisotropic scaling                                                                                                                                                                          |\n+----------------------------------------------------------------------------------------------------------------+--------------------------------------------------------------------------------------------------------------------------------------------------------------------------------------------------------+\n| `ScaleVersor3DTransform <http://www.itk.org/Doxygen/html/classitk_1_1ScaleVersor3DTransform.html>`__           | 3D, rigid transformation and anisotropic scale is added to the rotation matrix part (not composed as one would expect)                                                                                 |\n+----------------------------------------------------------------------------------------------------------------+--------------------------------------------------------------------------------------------------------------------------------------------------------------------------------------------------------+\n| `ScaleSkewVersor3DTransform <http://www.itk.org/Doxygen/html/classitk_1_1ScaleSkewVersor3DTransform.html>`__   | 3D, rigid transformation with anisotropic scale and skew matrices added to the rotation matrix part (not composed as one would expect)                                                                 |\n+----------------------------------------------------------------------------------------------------------------+--------------------------------------------------------------------------------------------------------------------------------------------------------------------------------------------------------+\n| `AffineTransform <http://www.itk.org/Doxygen/html/classitk_1_1AffineTransform.html>`__                         | 2D or 3D, affine transformation.                                                                                                                                                                       |\n+----------------------------------------------------------------------------------------------------------------+--------------------------------------------------------------------------------------------------------------------------------------------------------------------------------------------------------+\n| `BSplineTransform <http://www.itk.org/Doxygen/html/classitk_1_1BSplineTransform.html>`__                       | 2D or 3D, deformable transformation represented by a sparse regular grid of control points.                                                                                                            |\n+----------------------------------------------------------------------------------------------------------------+--------------------------------------------------------------------------------------------------------------------------------------------------------------------------------------------------------+\n| `DisplacementFieldTransform <http://www.itk.org/Doxygen/html/classitk_1_1DisplacementFieldTransform.html>`__   | 2D or 3D, deformable transformation represented as a dense regular grid of vectors.                                                                                                                    |\n+----------------------------------------------------------------------------------------------------------------+--------------------------------------------------------------------------------------------------------------------------------------------------------------------------------------------------------+\n| `Transform <http://www.itk.org/SimpleITKDoxygen/html/classitk_1_1simple_1_1Transform.html>`__                  | A generic transformation. Can represent any of the SimpleITK transformations, and a **composite transformation** (stack of transformations concatenated via composition, last added, first applied).   |\n+----------------------------------------------------------------------------------------------------------------+--------------------------------------------------------------------------------------------------------------------------------------------------------------------------------------------------------+\n\n\n\n"
      ],
      "cell_type": "markdown",
      "metadata": {}
    },
    {
      "outputs": [],
      "source": [
        "import SimpleITK as sitk\nimport numpy as np\nimport matplotlib.pyplot as plt"
      ],
      "cell_type": "code",
      "execution_count": null,
      "metadata": {
        "collapsed": false
      }
    },
    {
      "source": [
        "Points in SimpleITK\n===================\n\nUtility functions\n-----------------\nLet's write some functions that deal with point data in a uniform manner.\n\nPrint Point\n^^^^^^^^^^^\nFormat a point for printing, based on specified precision with trailing\nzeros.\n\n"
      ],
      "cell_type": "markdown",
      "metadata": {}
    },
    {
      "outputs": [],
      "source": [
        "def point2str(point, precision=1):\n    format_str = '.{0}f'.format(precision)\n    return ' '.join(format(c, format_str) for c in point)"
      ],
      "cell_type": "code",
      "execution_count": null,
      "metadata": {
        "collapsed": false
      }
    },
    {
      "source": [
        "Generate Random Cloud of points\n^^^^^^^^^^^^^^^^^^^^^^^^^^^^^^^\n\nGenerate random (uniform withing bounds) nD point cloud.\nDimension is based on the number of pairs in the bounds input.\n\n"
      ],
      "cell_type": "markdown",
      "metadata": {}
    },
    {
      "outputs": [],
      "source": [
        "def uniform_random_points(bounds, num_points):\n    internal_bounds = [sorted(b) for b in bounds]\n    # Generate rows for each of the coordinates according to\n    # the given bounds, stack into an array, and split into\n    # a list of points.\n    mat = np.vstack([np.random.uniform(b[0], b[1], num_points)\n                     for b in internal_bounds])\n    return list(mat[:len(bounds)].T)"
      ],
      "cell_type": "code",
      "execution_count": null,
      "metadata": {
        "collapsed": false
      }
    },
    {
      "source": [
        "Compute Registration Error\n^^^^^^^^^^^^^^^^^^^^^^^^^^\n\nDistances between points transformed by the given transformation and their\nlocation in another coordinate system. When the points are only used to\nevaluate registration accuracy (not used in the registration) this is the\ntarget registration error (TRE).\n\n"
      ],
      "cell_type": "markdown",
      "metadata": {}
    },
    {
      "outputs": [],
      "source": [
        "def target_registration_errors(tx, point_list, reference_point_list):\n    return [np.linalg.norm(np.array(tx.TransformPoint(p)) - np.array(p_ref))\n            for p, p_ref in zip(point_list, reference_point_list)]"
      ],
      "cell_type": "code",
      "execution_count": null,
      "metadata": {
        "collapsed": false
      }
    },
    {
      "source": [
        "Check difference between two transformations\n^^^^^^^^^^^^^^^^^^^^^^^^^^^^^^^^^^^^^^^^^^^^\n\nCheck whether two transformations are \"equivalent\" in an arbitrary spatial\nregion either 3D or 2D, [x=(-10,10), y=(-100,100), z=(-1000,1000)]. This is\njust a sanity check, as we are just looking at the effect of the\ntransformations on a random set of points in the region.\n\n"
      ],
      "cell_type": "markdown",
      "metadata": {}
    },
    {
      "outputs": [],
      "source": [
        "def print_transformation_differences(tx1, tx2):\n    if tx1.GetDimension() == 2 and tx2.GetDimension() == 2:\n        bounds = [(-10, 10), (-100, 100)]\n    elif tx1.GetDimension() == 3 and tx2.GetDimension() == 3:\n        bounds = [(-10, 10), (-100, 100), (-1000, 1000)]\n    else:\n        raise ValueError('Transformation dimensions mismatch, '\n                         'or unsupported transformation dimensionality')\n    num_points = 10\n    point_list = uniform_random_points(bounds, num_points)\n    tx1_point_list = [tx1.TransformPoint(p) for p in point_list]\n    differences = target_registration_errors(tx2, point_list, tx1_point_list)\n\n    print('{} - {} :\\tminDifference: {:.2f} maxDifference: {:.2f}'.format(\n        tx1.GetName(), tx2.GetName(), min(differences), max(differences)))"
      ],
      "cell_type": "code",
      "execution_count": null,
      "metadata": {
        "collapsed": false
      }
    },
    {
      "source": [
        "In SimpleITK points can be represented by any vector-like data type.\nIn Python these include Tuple, Numpy array, and List. In general Python will\ntreat these data types differently, as illustrated by the print function\nbelow.\n\nSimpleITK points represented by vector-like data structures.\n\n"
      ],
      "cell_type": "markdown",
      "metadata": {}
    },
    {
      "outputs": [],
      "source": [
        "point_tuple = (9.0, 10.531, 11.8341)\npoint_np_array = np.array([9.0, 10.531, 11.8341])\npoint_list = [9.0, 10.531, 11.8341]\n\nprint('tuple : {}'.format(point_tuple))\nprint('numpy array : {}'.format(point_np_array))\nprint('list: {}'.format(point_list))\n\n# Uniform printing with specified precision.\nprecision = 2\nprint(point2str(point_tuple, precision))\nprint(point2str(point_np_array, precision))\nprint(point2str(point_list, precision))"
      ],
      "cell_type": "code",
      "execution_count": null,
      "metadata": {
        "collapsed": false
      }
    },
    {
      "source": [
        "Global Transformations\n======================\nAll global transformations *except* translation are of the form:\n\n.. math ::\n    T(\\mathbf{x}) = A(\\mathbf{x}-\\mathbf{c}) + \\mathbf{t} + \\mathbf{c}\n\nIn ITK speak (when printing your transformation):\n\n- Matrix: the matrix  $A$\n- Center: the point  $c$\n- Translation: the vector  $t$\n- Offset:  $t+c\u2212Ac$\n\n\nTranslationTransform\n--------------------\nA 3D translation. Note that you need to specify the dimensionality,\nas the sitk TranslationTransform represents both 2D and 3D translations.\n\n"
      ],
      "cell_type": "markdown",
      "metadata": {}
    },
    {
      "outputs": [],
      "source": [
        "dimension = 3\noffset = (1, 2, 3)  # offset can be any vector-like data\ntranslation = sitk.TranslationTransform(dimension, offset)\nprint(translation)"
      ],
      "cell_type": "code",
      "execution_count": null,
      "metadata": {
        "collapsed": false
      }
    },
    {
      "source": [
        "Transform a point and use the inverse transformation to get the original\nback.\n\n"
      ],
      "cell_type": "markdown",
      "metadata": {}
    },
    {
      "outputs": [],
      "source": [
        "point = [10, 11, 12]\ntransformed_point = translation.TransformPoint(point)\ntranslation_inverse = translation.GetInverse()\nprint(('original point:    {} \\n'\n       'transformed point: {} \\n'\n       'back to original:  {} \\n').format(\n    point2str(point),\n    point2str(transformed_point),\n    point2str(translation_inverse.TransformPoint(transformed_point))))"
      ],
      "cell_type": "code",
      "execution_count": null,
      "metadata": {
        "collapsed": false
      }
    },
    {
      "source": [
        "Euler2DTransform\n----------------\n\nThis transform applies a rigid transformation is 2D space. The transform\nis specified as a rotation around arbitrary center and is followed by a\ntranslation.\n\n"
      ],
      "cell_type": "markdown",
      "metadata": {}
    },
    {
      "outputs": [],
      "source": [
        "rotation2D = sitk.Euler2DTransform()\nrotation2D.SetTranslation((7.2, 8.4))\nrotation2D.SetAngle(np.pi / 2)\n\npoint = [10, 11]\nprint(('original point:    {}\\n'\n       'transformed point:  {}').format(\n    point2str(point),\n    point2str(rotation2D.TransformPoint(point))))"
      ],
      "cell_type": "code",
      "execution_count": null,
      "metadata": {
        "collapsed": false
      }
    },
    {
      "source": [
        "Change the center of rotation so that it coincides with the point we want to\ntransform, why is this a unique configuration?\n\n"
      ],
      "cell_type": "markdown",
      "metadata": {}
    },
    {
      "outputs": [],
      "source": [
        "rotation2D.SetCenter(point)\nprint(('original point:    {}\\n'\n       'transformed point:  {}').format(\n    point2str(point),\n    point2str(rotation2D.TransformPoint(point))))"
      ],
      "cell_type": "code",
      "execution_count": null,
      "metadata": {
        "collapsed": false
      }
    },
    {
      "source": [
        "VersorTransform\n---------------\n\nRotation only, parametrized by Versor (vector part of unit quaternion),\nquaternion defined by rotation of theta around axis n:\n\n.. math ::\n      q = [n\\sin(\\theta/2), \\cos(\\theta/2)]\n\n180 degree rotation around z axis\n\n"
      ],
      "cell_type": "markdown",
      "metadata": {}
    },
    {
      "outputs": [],
      "source": [
        "# Using a versor\nrotation1 = sitk.VersorTransform([0, 0, 1, 0])\n\n# Using axis-angle:\nrotation2 = sitk.VersorTransform((0, 0, 1), np.pi)\n\n# Using a matrix:\nrotation3 = sitk.VersorTransform()\nrotation3.SetMatrix([-1, 0, 0, 0, -1, 0, 0, 0, 1])\n\npoint = (10, 100, 1000)\np1 = rotation1.TransformPoint(point)\np2 = rotation2.TransformPoint(point)\np3 = rotation3.TransformPoint(point)\n\nprint(('Points after transformation:\\n'\n       'p1 = {} \\n'\n       'p2 = {} \\n'\n       'p3 = {} \\n').format(p1, p2, p3))"
      ],
      "cell_type": "code",
      "execution_count": null,
      "metadata": {
        "collapsed": false
      }
    },
    {
      "source": [
        "We applied the \"same\" transformation to the same point, so why are the\nresults slightly different for the second initialization method?\n\nThis is where theory meets practice. Using the axis-angle initialization\nmethod involves trigonometric functions which on a fixed precision machine\nlead to these slight differences. In many cases this is not an issue, but it\nis something to remember. From here on we will sweep it under the rug\n(printing with a more reasonable precision).\n\nTranslation to Rigid [3D]\n-------------------------\n.. todo ::\n  Fill all the notebook. It's too boring and requires too much work.\n\n"
      ],
      "cell_type": "markdown",
      "metadata": {}
    }
  ],
  "nbformat_minor": 0
}