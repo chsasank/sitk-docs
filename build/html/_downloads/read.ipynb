{
  "nbformat": 4,
  "metadata": {
    "kernelspec": {
      "language": "python",
      "display_name": "Python 3",
      "name": "python3"
    },
    "language_info": {
      "file_extension": ".py",
      "mimetype": "text/x-python",
      "codemirror_mode": {
        "version": 3,
        "name": "ipython"
      },
      "version": "3.4.5",
      "nbconvert_exporter": "python",
      "pygments_lexer": "ipython3",
      "name": "python"
    }
  },
  "cells": [
    {
      "metadata": {
        "collapsed": false
      },
      "execution_count": null,
      "cell_type": "code",
      "source": [
        "%matplotlib inline"
      ],
      "outputs": []
    },
    {
      "metadata": {},
      "source": [
        "\nHow to read nii.gz Images\n=========================\n\nThis is how you read 3d images in python.\n\n"
      ],
      "cell_type": "markdown"
    },
    {
      "metadata": {
        "collapsed": false
      },
      "execution_count": null,
      "cell_type": "code",
      "source": [
        "import SimpleITK as sitk\nimg = sitk.ReadImage('file.nii.gz')\nsitk.WriteImage(img, 'file2.nii.gz')"
      ],
      "outputs": []
    }
  ],
  "nbformat_minor": 0
}