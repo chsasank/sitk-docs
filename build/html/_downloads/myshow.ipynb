{
  "nbformat": 4,
  "metadata": {
    "language_info": {
      "nbconvert_exporter": "python",
      "version": "3.4.5",
      "pygments_lexer": "ipython3",
      "codemirror_mode": {
        "version": 3,
        "name": "ipython"
      },
      "file_extension": ".py",
      "name": "python",
      "mimetype": "text/x-python"
    },
    "kernelspec": {
      "display_name": "Python 3",
      "name": "python3",
      "language": "python"
    }
  },
  "cells": [
    {
      "outputs": [],
      "execution_count": null,
      "source": [
        "%matplotlib inline"
      ],
      "cell_type": "code",
      "metadata": {
        "collapsed": false
      }
    },
    {
      "metadata": {},
      "source": [
        "\nFunction to show images\n=======================\n\nFunctions created in guides for visualization in other guides.\n\n"
      ],
      "cell_type": "markdown"
    },
    {
      "outputs": [],
      "execution_count": null,
      "source": [
        "import matplotlib.pyplot as plt\nimport SimpleITK as sitk\n\n\ndef myshow(img, title=None, margin=0.05, dpi=80):\n    nda = sitk.GetArrayFromImage(img)\n    spacing = img.GetSpacing()\n\n    if nda.ndim == 3:\n        # fastest dim, either component or x\n        c = nda.shape[-1]\n\n        # the the number of components is 3 or 4 consider it an RGB image\n        if c not in (3, 4):\n            nda = nda[nda.shape[0] // 2, :, :]\n\n    elif nda.ndim == 4:\n        c = nda.shape[-1]\n\n        if c not in (3, 4):\n            raise RuntimeError(\"Unable to show 3D-vector Image\")\n\n        # take a z-slice\n        nda = nda[nda.shape[0] // 2, :, :, :]\n\n    ysize = nda.shape[1]\n    xsize = nda.shape[0]\n\n    # Make a figure big enough to accommodate an axis of xpixels by ypixels\n    # as well as the ticklabels, etc...\n    figsize = (1 + margin) * ysize / dpi, (1 + margin) * xsize / dpi\n\n    plt.figure(figsize=figsize, dpi=dpi, tight_layout=True)\n    ax = plt.gca()\n\n    extent = (0, ysize * spacing[0], 0, xsize * spacing[1])\n\n    t = ax.imshow(nda, extent=extent, interpolation=None)\n\n    if nda.ndim == 2:\n        t.set_cmap(\"gray\")\n\n    if(title):\n        plt.title(title)\n\n    plt.show()\n\n\ndef myshow3d(img, xslices=[], yslices=[], zslices=[], title=None, margin=0.05,\n             dpi=80):\n    img_xslices = [img[s, :, :] for s in xslices]\n    img_yslices = [img[:, s, :] for s in yslices]\n    img_zslices = [img[:, :, s] for s in zslices]\n\n    maxlen = max(len(img_xslices), len(img_yslices), len(img_zslices))\n\n    img_null = sitk.Image([0, 0], img.GetPixelID(),\n                          img.GetNumberOfComponentsPerPixel())\n\n    img_slices = []\n    d = 0\n\n    if len(img_xslices):\n        img_slices += img_xslices + [img_null] * (maxlen - len(img_xslices))\n        d += 1\n\n    if len(img_yslices):\n        img_slices += img_yslices + [img_null] * (maxlen - len(img_yslices))\n        d += 1\n\n    if len(img_zslices):\n        img_slices += img_zslices + [img_null] * (maxlen - len(img_zslices))\n        d += 1\n\n    if maxlen != 0:\n        if img.GetNumberOfComponentsPerPixel() == 1:\n            img = sitk.Tile(img_slices, [maxlen, d])\n        # TO DO check in code to get Tile Filter working with vector images\n        else:\n            img_comps = []\n            for i in range(0, img.GetNumberOfComponentsPerPixel()):\n                img_slices_c = [sitk.VectorIndexSelectionCast(s, i)\n                                for s in img_slices]\n                img_comps.append(sitk.Tile(img_slices_c, [maxlen, d]))\n            img = sitk.Compose(img_comps)\n\n    myshow(img, title, margin, dpi)"
      ],
      "cell_type": "code",
      "metadata": {
        "collapsed": false
      }
    }
  ],
  "nbformat_minor": 0
}