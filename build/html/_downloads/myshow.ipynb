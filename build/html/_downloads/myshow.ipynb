{
  "metadata": {
    "kernelspec": {
      "name": "python3",
      "language": "python",
      "display_name": "Python 3"
    },
    "language_info": {
      "file_extension": ".py",
      "nbconvert_exporter": "python",
      "mimetype": "text/x-python",
      "codemirror_mode": {
        "version": 3,
        "name": "ipython"
      },
      "version": "3.4.5",
      "name": "python",
      "pygments_lexer": "ipython3"
    }
  },
  "nbformat_minor": 0,
  "nbformat": 4,
  "cells": [
    {
      "metadata": {
        "collapsed": false
      },
      "cell_type": "code",
      "outputs": [],
      "source": [
        "%matplotlib inline"
      ],
      "execution_count": null
    },
    {
      "metadata": {},
      "cell_type": "markdown",
      "source": [
        "\nFunction to show images\n=======================\n\nFunctions created in guides for visualization in other guides.\nIf you want to run the code from other guides, please download this file (by \nclicking ``Download Python source code`` at the bottom of the page) and add it \nto your python path.\n\n"
      ]
    },
    {
      "metadata": {
        "collapsed": false
      },
      "cell_type": "code",
      "outputs": [],
      "source": [
        "import matplotlib.pyplot as plt\nimport SimpleITK as sitk\n\n\ndef myshow(img, title=None, margin=0.05, dpi=80):\n    nda = sitk.GetArrayFromImage(img)\n    spacing = img.GetSpacing()\n\n    if nda.ndim == 3:\n        # fastest dim, either component or x\n        c = nda.shape[-1]\n\n        # the the number of components is 3 or 4 consider it an RGB image\n        if c not in (3, 4):\n            nda = nda[nda.shape[0] // 2, :, :]\n\n    elif nda.ndim == 4:\n        c = nda.shape[-1]\n\n        if c not in (3, 4):\n            raise RuntimeError(\"Unable to show 3D-vector Image\")\n\n        # take a z-slice\n        nda = nda[nda.shape[0] // 2, :, :, :]\n\n    xsize = nda.shape[1]\n    ysize = nda.shape[0]\n\n    # Make a figure big enough to accommodate an axis of xpixels by ypixels\n    # as well as the ticklabels, etc...\n    figsize = (1 + margin) * xsize / dpi, (1 + margin) * ysize / dpi\n\n    plt.figure(figsize=figsize, dpi=dpi, tight_layout=True)\n    ax = plt.gca()\n\n    extent = (0, xsize * spacing[0], ysize * spacing[1], 0)\n\n    t = ax.imshow(nda, extent=extent, interpolation=None)\n\n    if nda.ndim == 2:\n        t.set_cmap(\"gray\")\n\n    if(title):\n        plt.title(title)\n\n    plt.show()\n\n\ndef myshow3d(img, xslices=[], yslices=[], zslices=[], title=None, margin=0.05,\n             dpi=80):\n    img_xslices = [img[s, :, :] for s in xslices]\n    img_yslices = [img[:, s, :] for s in yslices]\n    img_zslices = [img[:, :, s] for s in zslices]\n\n    maxlen = max(len(img_xslices), len(img_yslices), len(img_zslices))\n\n\n    img_null = sitk.Image([0, 0], img.GetPixelID(),\n                          img.GetNumberOfComponentsPerPixel())\n\n    img_slices = []\n    d = 0\n\n    if len(img_xslices):\n        img_slices += img_xslices + [img_null] * (maxlen - len(img_xslices))\n        d += 1\n\n    if len(img_yslices):\n        img_slices += img_yslices + [img_null] * (maxlen - len(img_yslices))\n        d += 1\n\n    if len(img_zslices):\n        img_slices += img_zslices + [img_null] * (maxlen - len(img_zslices))\n        d += 1\n\n    if maxlen != 0:\n        if img.GetNumberOfComponentsPerPixel() == 1:\n            img = sitk.Tile(img_slices, [maxlen, d])\n        # TO DO check in code to get Tile Filter working with vector images\n        else:\n            img_comps = []\n            for i in range(0, img.GetNumberOfComponentsPerPixel()):\n                img_slices_c = [sitk.VectorIndexSelectionCast(s, i)\n                                for s in img_slices]\n                img_comps.append(sitk.Tile(img_slices_c, [maxlen, d]))\n            img = sitk.Compose(img_comps)\n\n    myshow(img, title, margin, dpi)"
      ],
      "execution_count": null
    }
  ]
}