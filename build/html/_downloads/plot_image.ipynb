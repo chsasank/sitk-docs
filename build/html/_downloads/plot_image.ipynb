{
  "cells": [
    {
      "source": [
        "%matplotlib inline"
      ],
      "outputs": [],
      "execution_count": null,
      "cell_type": "code",
      "metadata": {
        "collapsed": false
      }
    },
    {
      "source": [
        "\nImage Basics\n************\n\nImage class is basic container for image data in SimpleITK. \nIt can hold 2 or 3 dimensional images and pixel can be either be a scalar or a vector. \nA RGB image for example, is a 2 dimensional image with 3 component vector pixel.\n    :backlinks: none\n\nConstruction\n============\nThere are a variety of ways to create an image. \nAll images' initial value is well defined as zero\n\n.. code-block:: cpp\n\n    Image(width, height, pixelID)\n    Image(width, height, depth, pixelID)\n    Image(sizeVector, pixelID)\n    Image(sizeVector, pixelID, numberOfComponents)\n\nFor example, in python you can create a RGB image of size 128x64 as\n\n"
      ],
      "metadata": {},
      "cell_type": "markdown"
    },
    {
      "source": [
        "import SimpleITK as sitk\nimage_RGB = sitk.Image([128,64], sitk.sitkVectorUInt8, 3)"
      ],
      "outputs": [],
      "execution_count": null,
      "cell_type": "code",
      "metadata": {
        "collapsed": false
      }
    },
    {
      "source": [
        "Pixel Types\n===========\nThe pixel type is represented as an enumerated type ``PixelIDValueEnum`` . \nThe following is a table of the enumerated list.\n\n======================      ==========================================\nEnumValue                   Description\n======================      ==========================================\n``sitkUInt8``               Unsigned 8 bit integer\n``sitkInt8``                Signed 8 bit integer\n``sitkUInt16``              Unsigned 16 bit integer\n``sitkInt16``               Signed 16 bit integer\n``sitkUInt32``              Unsigned 32 bit integer\n``sitkInt32``               Signed 32 bit integer\n``sitkUInt64``              Unsigned 64 bit integer\n``sitkInt64``               Signed 64 bit integer\n``sitkFloat32``             32 bit float\n``sitkFloat64``             64 bit float\n``sitkComplexFloat32``      complex number of 32 bit float\n``sitkComplexFloat64``      complex number of 64 bit float\n``sitkVectorUInt8``         Multi-component of unsigned 8 bit integer\n``sitkVectorInt8``          Multi-component of signed 8 bit integer\n``sitkVectorUInt16``        Multi-component of unsigned 16 bit integer\n``sitkVectorInt16``         Multi-component of signed 16 bit integer\n``sitkVectorUInt32``        Multi-component of unsigned 32 bit integer\n``sitkVectorInt32``         Multi-component of signed 32 bit integer\n``sitkVectorUInt64``        Multi-component of unsigned 64 bit integer\n``sitkVectorInt64``         Multi-component of signed 64 bit integer\n``sitkVectorFloat32``       Multi-component of 32 bit float\n``sitkVectorFloat64``       Multi-component of 64 bit float\n``sitkLabelUInt8``          RLE label of unsigned 8 bit integers\n``sitkLabelUInt16``         RLE label of unsigned 16 bit integers\n``sitkLabelUInt32``         RLE label of unsigned 32 bit integers\n``sitkLabelUInt64``         RLE label of unsigned 64 bit integers\n======================      ==========================================\n\nThere is also ``sitkUnknown``, which is used for undefined or erroneous pixel ID's. It has a value of ``-1``.\nThe 64-bit integer types are not available on all distributions. When not available the value is ``sitkUnknown``.\n\nYou can get the type of pixel using \n:cpp:func:`Image::GetPixelID() <itk::simple::Image::GetPixelID>`\nand its string representation using \n:cpp:func:`Image::GetPixelIDTypeAsString() <itk::simple::Image::GetPixelIDTypeAsString>`\n\nImages and Physical Space\n=========================\n\nThe unique feature of SimpleITK (derived from ITK) as a toolkit for image manipulation and analysis is that it views *images as physical objects occupying a bounded region in physical space*. \nIn addition images can have different spacing between pixels along each axis, and the axes are not necessarily orthogonal. The following figure illustrates these concepts.\n\n![](/images/ImageOriginAndSpacing.png)\n\n\nEach :cpp:class:`Image <itk::simple::Image>` has following properties:\n\n**Pixel type**\n    Type of pixel/voxel. Refer to table above. In case of a vector image, number of components per pixel can be greater than 1. This is fixed on creation. \n\n    Can get pixel type through :cpp:func:`Image::GetPixelID() <itk::simple::Image::GetPixelID>`.\n    Number of components per pixel can be found by :cpp:func:`Image::GetNumberOfComponentsPerPixel()<itk::simple::Image::GetNumberOfComponentsPerPixel>`\n\n**Size** \n    Number of pixels/voxels in each dimension. This quantity implicitly defines the image dimension.\n    This is also fixed on creation. \n\n    Size of the image can be found by :cpp:func:`Image::GetSize() <itk::simple::Image::GetSize>` and dimension by :cpp:func:`Image::GetDimension() <itk::simple::Image::GetDimension>`\n\n**Origin**\n    Coordinates of the pixel/voxel with index (0,0,0) in physical units (i.e. mm). Default is zero i.e. origin of physical space.\n\n    :cpp:func:`Image::GetOrigin() <itk::simple::Image::GetOrigin>` and \n    :cpp:func:`Image::SetOrigin() <itk::simple::Image::SetOrigin>` can be used to get and set origin respectively.\n\n**Spacing**\n    Distance between adjacent pixels/voxels in each dimension given in physical units.\n    Default is one i.e. (1 mm, 1 mm, 1 mm). \n\n    :cpp:func:`Image::GetSpacing() <itk::simple::Image::GetSpacing>` and \n    :cpp:func:`Image::SetSpacing() <itk::simple::Image::SetSpacing>` can be used to get and set spacing respectively.\n\n**Direction Matrix**\n    Mapping/rotation between direction of the pixel/voxel axes and physical directions. Default is identity matrix. The matrix is passed as a 1D array in row-major form.\n\n    :cpp:func:`Image::GetDirection() <itk::simple::Image::GetDirection>` and \n    :cpp:func:`Image::SetDirection() <itk::simple::Image::SetDirection>` can be used to get and set direction matrix respectively.\n\n.. note ::\n    All the transformations like rotation or affine transform are done on the underlying physical space. You can think of image of a view of this physical space.\n\nLet's illustrate this in python:\n\n"
      ],
      "metadata": {},
      "cell_type": "markdown"
    },
    {
      "source": [
        "from downloaddata import fetch_data as fdata\nimage = sitk.ReadImage(\n    fdata(\"nac-hncma-atlas2013-Slicer4Version/Data/A1_grayT1.nrrd\"))\n\nprint(\"Pixel Type    {}\".format(image.GetPixelID()))\nprint(\"Size          {}\".format(image.GetSize()))\nprint(\"Origin        {}\".format(image.GetOrigin()))\nprint(\"Spacing       {}\".format(image.GetSpacing()))\nprint(\"Direction     {}\".format(image.GetDirection()))"
      ],
      "outputs": [],
      "execution_count": null,
      "cell_type": "code",
      "metadata": {
        "collapsed": false
      }
    },
    {
      "source": [
        "Transform voxels to physical space\n----------------------------------\n\nFollowing equation can be used to convert voxel coordinates/indices to physical coordinates:\n\n\\begin{align}x = D.S.v + o\\end{align}\n\nwhere x is coordinate of the voxel in physical space, v is voxel index, o is origin, D is direction matrix and S is *diag* (spacing).\n\nThese functions can be directly used to transform between voxel and physical space: \n\n* :cpp:func:`Image::TransformContinuousIndexToPhysicalPoint() <itk::simple::Image::TransformContinuousIndexToPhysicalPoint>`\n* :cpp:func:`Image::TransformIndexToPhysicalPoint() <itk::simple::Image::TransformIndexToPhysicalPoint>`\n* :cpp:func:`Image::TransformPhysicalPointToContinuousIndex() <itk::simple::Image::TransformPhysicalPointToContinuousIndex>`\n* :cpp:func:`Image::TransformPhysicalPointToIndex() <itk::simple::Image::TransformPhysicalPointToIndex>`\n\nLet's try these out in python\n\n"
      ],
      "metadata": {},
      "cell_type": "markdown"
    },
    {
      "source": [
        "pt = (4.0, 2.0, 0.0)\nidx = (30, 87, 45)\n\nprint(\"Point {} is voxel {}.\".format(\n    pt, image.TransformPhysicalPointToIndex(pt)))\n\nprint(\"Voxel {} is point {}.\".format(\n    idx, image.TransformIndexToPhysicalPoint(idx)))"
      ],
      "outputs": [],
      "execution_count": null,
      "cell_type": "code",
      "metadata": {
        "collapsed": false
      }
    },
    {
      "source": [
        "Accessing Pixels\n================\n\nYou can get the pixel values using one of \n:cpp:func:`Image::GetPixelAsInt8() <itk::simple::Image::GetPixelAsInt8>`, \n:cpp:func:`Image::GetPixelAsUInt32()  <itk::simple::Image::GetPixelAsUInt32>`, \n:cpp:func:`Image::GetPixelAsFloat()  <itk::simple::Image::GetPixelAsFloat>`\n:cpp:func:`Image::GetPixelAsDouble()  <itk::simple::Image::GetPixelAsDouble>` etc.\n\nSimilarly, you can set the pixel values using \n:cpp:func:`Image::SetPixelAsInt8() <itk::simple::Image::SetPixelAsInt8>`, \n:cpp:func:`Image::SetPixelAsUInt32()  <itk::simple::Image::SetPixelAsUInt32>`, \n:cpp:func:`Image::SetPixelAsFloat()  <itk::simple::Image::SetPixelAsFloat>`\n:cpp:func:`Image::SetPixelAsDouble()  <itk::simple::Image::SetPixelAsDouble>` etc.\n\nIn dynamic type languages like python and lua, ``GetPixel`` and ``SetPixel`` are available.\nIn python, you can also use pythonic indexing to get and set pixel values.\n\nFor example\n\n"
      ],
      "metadata": {},
      "cell_type": "markdown"
    },
    {
      "source": [
        "x, y, z = 10, 15, 20\n# These two mean the same\nprint(\"Get pixels: {:.3f}, {:.3f}\".format(image.GetPixel(x, y, z), \n                                          image[x, y, z]))\n\n# These two mean the same\nimage.SetPixel(x, y, z, 1.2)\nimage[x, y, z] = 1.2"
      ],
      "outputs": [],
      "execution_count": null,
      "cell_type": "code",
      "metadata": {
        "collapsed": false
      }
    },
    {
      "source": [
        "Arrays/Tensors\n--------------\n\nIf you have `numpy <http://www.numpy.org>`_ library installed in python, you can convert images to arrays and vice versa using ``GetArrayFromImage()`` and ``GetImageFromArray()``.\nSimilarly, if you have `torch <http://torch.ch>`_ installed, you can use ``GetTensorFromImage()`` and ``GetImageFromTensor()``.\nNumpy and torch are numerical computational libraries for python and lua respectively.\n\n.. note ::\n    While converting from tensor/array to Image, remember to set the image's origin, spacing, and possibly direction cosine matrix. The default values may not match the physical dimensions of your image.\n\n.. note ::\n\n    Image access is in x,y,z order (image.GetPixel(x,y,z) or image[x,y,z]) with zero based indexing. Note that this is different from numpy or torch indexing which uses z, y, x order.\n\nIn numpy for example:\n\n"
      ],
      "metadata": {},
      "cell_type": "markdown"
    },
    {
      "source": [
        "sitkimg = sitk.Image(10, 20, 30, sitk.sitkFloat32)\nsitkimg[1, 2, 3] = 1.5\nnpimg = sitk.GetArrayFromImage(sitkimg)\nprint(\"Size from SimpleITK: {}, numpy: {}\".format(\n    sitkimg.GetSize(), npimg.shape))\nprint(\"npimg[1, 2, 3] = {}, npimg[3, 2, 1] = {}\".format(\n    npimg[1, 2, 3], npimg[3, 2, 1]))"
      ],
      "outputs": [],
      "execution_count": null,
      "cell_type": "code",
      "metadata": {
        "collapsed": false
      }
    },
    {
      "source": [
        "In torch, indexing starts with 1:\n\n.. code-block:: lua\n\n    sitk = require 'SimpleITK'\n    sitkimg = sitk.Image(10, 20, 30, sitk.sitkFloat32)\n    sitkimg:SetPixel({1, 2, 3}, 1.5)\n    thimg = sitk.GetTensorFromImage(sitkimg)\n\n    sitksize = sitkimg:GetSize()\n    thsize = thimg:size()\n    print(sitksize[0], sitksize[1], sitksize[2]) -- prints 10 20 30\n    print(thsize[1], thsize[2], thsize[3])       -- prints 30 20 10\n    print(thimg[{2, 3, 4}], thimg[{3, 2, 1}],\n                            thimg[{4, 3, 2}])    -- prints 0 0 1.5\n\nSlicing\n-------\n:cpp:func:`Slice() <itk::simple::Slice>` can be used to slice the image and a dimension can be collapsed with :cpp:func:`Extract() <itk::simple::Extract>`. \nIn python, you can use pythonic slicing without having to use these:\n\n"
      ],
      "metadata": {},
      "cell_type": "markdown"
    },
    {
      "source": [
        "import matplotlib.pyplot as plt\n\nlogo = sitk.ReadImage(fdata('SimpleITK.jpg'))\n# Brute force subsampling\nlogo_subsampled = logo[::2, ::2]\n# Get the sub-image containing the word Simple\nsimple = logo[0:115,:]\n# Get the sub-image containing the word Simple and flip it\nsimple_flipped = logo[115:0:-1,:]\n\n# display results\nfig, ((ax1, ax2), (ax3, ax4)) = plt.subplots(nrows=2, ncols=2,\n                                             sharex=True,\n                                             sharey=True)\n\nax1.imshow(sitk.GetArrayFromImage(logo))\nax1.axis('off')\nax1.set_title(\"logo\")\n\nax2.imshow(sitk.GetArrayFromImage(logo_subsampled))\nax2.axis('off')\nax2.set_title(\"logo_subsampled\")\n\nax3.imshow(sitk.GetArrayFromImage(simple))\nax3.axis('off')\nax3.set_title(\"simple\")\n\nax4.imshow(sitk.GetArrayFromImage(simple_flipped))\nax4.axis('off')\nax4.set_title(\"simple_flipped\")\n\nfig.tight_layout()\nplt.show()"
      ],
      "outputs": [],
      "execution_count": null,
      "cell_type": "code",
      "metadata": {
        "collapsed": false
      }
    },
    {
      "source": [
        "Image Operations\n================\nSimpleITK supports basic arithmetic operations between images, **taking into \naccount their physical space**\n\n"
      ],
      "metadata": {},
      "cell_type": "markdown"
    },
    {
      "source": [
        "img1 = sitk.Image(24, 24, sitk.sitkUInt8)\nimg2 = sitk.Image(img1.GetSize(), sitk.sitkUInt8)\nimg1[0, 0] = 10\nimg2[0, 0] = 30\nimg3 = img1 + img2\nimg4 = img1 + 72\nprint(\"Test add: {} {}\".format(img3[0, 0], img4[0, 0]))\nimg2.SetOrigin([3, 5])\n# Following raises error as the images are not in the\n# same physical space\ntry:\n    img5 = img1 + img2\nexcept Exception as e:\n    print(e)"
      ],
      "outputs": [],
      "execution_count": null,
      "cell_type": "code",
      "metadata": {
        "collapsed": false
      }
    },
    {
      "source": [
        "Following are some of the pixel-wise operations that can be used with image, \nimage pairs or image, scalar pairs:\n\n* Addition ``+``\n* Subtraction ``-``\n* Multiplication ``*``\n* Division ``/``\n* Modulo ``%``\n* Power ``**``\n\nLot more operations like sine, cosine, exponentation etc. are also available.\n\n"
      ],
      "metadata": {},
      "cell_type": "markdown"
    }
  ],
  "nbformat_minor": 0,
  "metadata": {
    "language_info": {
      "file_extension": ".py",
      "mimetype": "text/x-python",
      "name": "python",
      "version": "3.4.5",
      "nbconvert_exporter": "python",
      "codemirror_mode": {
        "version": 3,
        "name": "ipython"
      },
      "pygments_lexer": "ipython3"
    },
    "kernelspec": {
      "language": "python",
      "display_name": "Python 3",
      "name": "python3"
    }
  },
  "nbformat": 4
}