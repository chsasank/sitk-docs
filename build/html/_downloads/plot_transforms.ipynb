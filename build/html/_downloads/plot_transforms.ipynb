{
  "nbformat": 4,
  "metadata": {
    "language_info": {
      "pygments_lexer": "ipython3",
      "file_extension": ".py",
      "codemirror_mode": {
        "version": 3,
        "name": "ipython"
      },
      "version": "3.4.5",
      "mimetype": "text/x-python",
      "nbconvert_exporter": "python",
      "name": "python"
    },
    "kernelspec": {
      "display_name": "Python 3",
      "name": "python3",
      "language": "python"
    }
  },
  "cells": [
    {
      "outputs": [],
      "source": [
        "%matplotlib inline"
      ],
      "cell_type": "code",
      "execution_count": null,
      "metadata": {
        "collapsed": false
      }
    },
    {
      "source": [
        "\nTransforms and Resampling\n*************************\n\nThis tutorial explains how to apply transforms to images.\n\nSimpleITK provides you with variety of transforms like Translation,\nAffine (which includes rotations, shear, scaling)\n\nIt is important to keep in mind that these transforms are applied on the \npoints in the physical space, not the image cordinates itself. \n\nA few conventions:\n\n- Points are represented by vector-like data types: Tuple, Numpy array, List.\n- Matrices are represented by vector-like data types in row major order.\n    :backlinks: none\n\n\n"
      ],
      "cell_type": "markdown",
      "metadata": {}
    },
    {
      "outputs": [],
      "source": [
        "# Author: Sasank Chilamkurthy\n# sphinx_gallery_thumbnail_number = 7\n\nimport SimpleITK as sitk\nimport numpy as np\nfrom myshow import myshow"
      ],
      "cell_type": "code",
      "execution_count": null,
      "metadata": {
        "collapsed": false
      }
    },
    {
      "source": [
        "Creating and Manipulating Transforms\n====================================\nA number of different spatial transforms are available in SimpleITK.\n\nIdentity Transform\n------------------\nThe simplest is the Identity Transform.\nThis transform simply returns input points unaltered.\n\n\n"
      ],
      "cell_type": "markdown",
      "metadata": {}
    },
    {
      "outputs": [],
      "source": [
        "dimension = 2\n\nprint('*Identity Transform*')\nidentity = sitk.Transform(dimension, sitk.sitkIdentity)\nprint('Dimension: {}'.format(identity.GetDimension()))\n\n# Points are always defined in physical space\npoint = (1.0, 1.0)\n\n\ndef transform_point(transform, point):\n    transformed_point = transform.TransformPoint(point)\n    print('Point {} is transformed to {}'.format(point, transformed_point))\n\ntransform_point(identity, point)"
      ],
      "cell_type": "code",
      "execution_count": null,
      "metadata": {
        "collapsed": false
      }
    },
    {
      "source": [
        "Transform are defined by two sets of parameters, the ``Parameters`` and\n``FixedParameters``.  ``FixedParameters`` are not changed during the\noptimization process when performing registration.\n\nTranslation Transform\n---------------------\nThis transform simply translates input points by a offest.\nFor the TranslationTransform, the Parameters are the values of this translation\nOffset.\n\n"
      ],
      "cell_type": "markdown",
      "metadata": {}
    },
    {
      "outputs": [],
      "source": [
        "print('*Translation Transform*')\ntranslation = sitk.TranslationTransform(dimension)\n\nprint('Parameters: {}'.format(translation.GetParameters()))\nprint('Offset:     {}'.format(translation.GetOffset()))\nprint('FixedParameters: {}'.format(translation.GetFixedParameters()))\ntransform_point(translation, point)\n\nprint('')\ntranslation.SetParameters((3.1, 4.4))\nprint('Parameters: {}'.format(translation.GetParameters()))\ntransform_point(translation, point)"
      ],
      "cell_type": "code",
      "execution_count": null,
      "metadata": {
        "collapsed": false
      }
    },
    {
      "source": [
        "Affine Transform\n----------------\nThe affine transform is capable of representing translations, rotations,\nshearing, and scaling.\n\nAffine transformation can be described with the following equation:\n\n\\begin{align}x' = A.(x-c) + t\\end{align}\n\nwhere x is the input cordinate vector and x' is the output cordinate vector,\nA is the affine matrix, t is the translation and c is the centre of\nthe affine transform.\nBy default, A = I and C = 0\n\n"
      ],
      "cell_type": "markdown",
      "metadata": {}
    },
    {
      "outputs": [],
      "source": [
        "print('*Affine Transform*')\naffine = sitk.AffineTransform(dimension)\n\nprint('Parameters: {}'.format(affine.GetParameters()))\nprint('FixedParameters: {}'.format(affine.GetFixedParameters()))\ntransform_point(affine, point)\n\nprint('')\naffine.SetTranslation((3.1, 4.4))\nprint('Parameters: {}'.format(affine.GetParameters()))\ntransform_point(affine, point)"
      ],
      "cell_type": "code",
      "execution_count": null,
      "metadata": {
        "collapsed": false
      }
    },
    {
      "source": [
        "A number of other transforms exist to represent non-affine deformations,\nwell-behaved rotation in 3D, etc. See the :doc:`Next guide` for more\ninformation.\n\nApplying Transforms to Images\n=============================\nLet's create a grid image to illustrate our transforms.\n\n"
      ],
      "cell_type": "markdown",
      "metadata": {}
    },
    {
      "outputs": [],
      "source": [
        "grid = sitk.GridSource(outputPixelType=sitk.sitkUInt16,\n                       size=(250, 250),\n                       sigma=(0.5, 0.5),\n                       gridSpacing=(5.0, 5.0),\n                       gridOffset=(0.0, 0.0),\n                       spacing=(0.2, 0.2))\n\nmyshow(grid, 'Grid Input')"
      ],
      "cell_type": "code",
      "execution_count": null,
      "metadata": {
        "collapsed": false
      }
    },
    {
      "source": [
        "To apply the transform, a resampling operation is required.\n\n<div class=\"alert alert-info\"><h4>Note</h4><p>Resample applies transform to phyiscal space, not voxel cordinates directly.\n  Once phyiscal space is transformed, you will need to specify how you view\n  this space by setting output origin, spacing and direction. Alternatively,\n  you can specify a reference image so that output origin, spacing and\n  direction are set to that of the reference image.</p></div>\n\nIn the following ``resample`` function, output image Origin, Spacing, Size,\nDirection are taken from the reference\n\n"
      ],
      "cell_type": "markdown",
      "metadata": {}
    },
    {
      "outputs": [],
      "source": [
        "def resample(image, transform):\n    reference_image = image\n    interpolator = sitk.sitkCosineWindowedSinc\n    default_value = 100.0\n    return sitk.Resample(image, reference_image, transform,\n                         interpolator, default_value)"
      ],
      "cell_type": "code",
      "execution_count": null,
      "metadata": {
        "collapsed": false
      }
    },
    {
      "source": [
        "Let's apply translation to image\n\n"
      ],
      "cell_type": "markdown",
      "metadata": {}
    },
    {
      "outputs": [],
      "source": [
        "translation = sitk.TranslationTransform(2)\ntranslation.SetOffset((3.1, 4.6))\ntransform_point(translation, point)\nresampled = resample(grid, translation)\nmyshow(resampled, 'Resampled Translation')"
      ],
      "cell_type": "code",
      "execution_count": null,
      "metadata": {
        "collapsed": false
      }
    },
    {
      "source": [
        "What happened?  The translation is positive in both directions.  Why does the\noutput image move down and to the left?\n\n<div class=\"alert alert-info\"><h4>Note</h4><p>It important to keep in mind that a transform in a resampling operation\n  defines *the transform from the output space to the input space*.</p></div>\n\n"
      ],
      "cell_type": "markdown",
      "metadata": {}
    },
    {
      "outputs": [],
      "source": [
        "inv_translation = translation.GetInverse()\ntransform_point(inv_translation, point)\nresampled = resample(grid, inv_translation)\nmyshow(resampled, 'Inverse Resampled')"
      ],
      "cell_type": "code",
      "execution_count": null,
      "metadata": {
        "collapsed": false
      }
    },
    {
      "source": [
        "An affine (line preserving) transformation, can perform translation, scaling,\nrotation and shearing:\nTranslation\n-----------\n\n"
      ],
      "cell_type": "markdown",
      "metadata": {}
    },
    {
      "outputs": [],
      "source": [
        "x_translation, y_translation = (3.1, 4.6)\n\naffine = sitk.AffineTransform(2)\naffine.SetTranslation((x_translation, y_translation))\nresampled = resample(grid, affine)\nmyshow(resampled, 'Translated')"
      ],
      "cell_type": "code",
      "execution_count": null,
      "metadata": {
        "collapsed": false
      }
    },
    {
      "source": [
        "Scaling\n-------\n\n"
      ],
      "cell_type": "markdown",
      "metadata": {}
    },
    {
      "outputs": [],
      "source": [
        "x_scale, y_scale = 3.0, 0.7\n\naffine = sitk.AffineTransform(2)\naffine.Scale((x_scale, y_scale))\nresampled = resample(grid, affine)\nmyshow(resampled, 'Scaled')"
      ],
      "cell_type": "code",
      "execution_count": null,
      "metadata": {
        "collapsed": false
      }
    },
    {
      "source": [
        "Rotation\n--------\nWe can either use ``AffineTransform::Rotate`` or directly set rotation matrix.\nLet's take the first route.\n\n"
      ],
      "cell_type": "markdown",
      "metadata": {}
    },
    {
      "outputs": [],
      "source": [
        "degrees = 20\n\naffine = sitk.AffineTransform(2)\nradians = np.pi * degrees / 180.\naffine.Rotate(axis1=0, axis2=1, angle=radians)\nresampled = resample(grid, affine)\nmyshow(resampled, 'Rotated')"
      ],
      "cell_type": "code",
      "execution_count": null,
      "metadata": {
        "collapsed": false
      }
    },
    {
      "source": [
        "Shearing\n--------\nThis time, let's directly set the matrix.\n\n"
      ],
      "cell_type": "markdown",
      "metadata": {}
    },
    {
      "outputs": [],
      "source": [
        "x_shear, y_shear = 0.3, 0.1\n\nmatrix = np.eye(2)\nmatrix[0, 1] = -x_shear\nmatrix[1, 0] = -y_shear\nprint(matrix)\n\naffine.SetMatrix(matrix.ravel())\nresampled = resample(grid, affine)\nmyshow(resampled, 'Sheared')"
      ],
      "cell_type": "code",
      "execution_count": null,
      "metadata": {
        "collapsed": false
      }
    },
    {
      "source": [
        "Composite Transform\n===================\nIt is possible to compose multiple transform together into a single transform \nobject. With a composite transform, multiple resampling operations are \nprevented, so interpolation errors are not accumulated. For example, an \naffine transformation that consists of a translation and rotation:\n\n"
      ],
      "cell_type": "markdown",
      "metadata": {}
    },
    {
      "outputs": [],
      "source": [
        "translate = (8.0, 16.0)\nrotate = 20.0\n\naffine = sitk.AffineTransform(2)\naffine.SetTranslation(translate)\naffine.Rotate(axis1=0, axis2=1, angle=np.pi / 180 * rotate)\n\nresampled = resample(grid, affine)\nmyshow(resampled, 'Single Transform')"
      ],
      "cell_type": "code",
      "execution_count": null,
      "metadata": {
        "collapsed": false
      }
    },
    {
      "source": [
        "This can also be represented with two Transform objects applied in sequence \nwith a Composite Transform:\n\n"
      ],
      "cell_type": "markdown",
      "metadata": {}
    },
    {
      "outputs": [],
      "source": [
        "translation = sitk.TranslationTransform(2)\ntranslation.SetOffset(translate)\n\naffine = sitk.AffineTransform(2)\naffine.Rotate(axis1=0, axis2=1, angle=np.pi / 180 * rotate)\n\ncomposite = sitk.Transform(2, sitk.sitkComposite)\ncomposite.AddTransform(translation)\ncomposite.AddTransform(affine)\n\nresampled = resample(grid, composite)\nmyshow(resampled, 'Composite of Two Transforms')"
      ],
      "cell_type": "code",
      "execution_count": null,
      "metadata": {
        "collapsed": false
      }
    },
    {
      "source": [
        "Beware, tranforms are non-commutative -- order matters!\n\n"
      ],
      "cell_type": "markdown",
      "metadata": {}
    },
    {
      "outputs": [],
      "source": [
        "composite = sitk.Transform(2, sitk.sitkComposite)\ncomposite.AddTransform(affine)\ncomposite.AddTransform(translation)\n\nresampled = resample(grid, composite)\nmyshow(resampled, 'Composite in reverse')"
      ],
      "cell_type": "code",
      "execution_count": null,
      "metadata": {
        "collapsed": false
      }
    }
  ],
  "nbformat_minor": 0
}