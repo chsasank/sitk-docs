{
  "cells": [
    {
      "source": [
        "%matplotlib inline"
      ],
      "outputs": [],
      "execution_count": null,
      "cell_type": "code",
      "metadata": {
        "collapsed": false
      }
    },
    {
      "source": [
        "\nImage Interpolation\n===================\n\nWe demonstrate the different interpolators available in SimpleITK available for\nimage resampling.  Their effect is demonstrated on the\n`Marschner-Lobb <http://www.cs.cornell.edu/~srm/publications/Vis94-filters-abstract.html>`_ \nimage.\n\n"
      ],
      "metadata": {},
      "cell_type": "markdown"
    },
    {
      "source": [
        "import SimpleITK as sitk\nimport math\nfrom myshow import myshow"
      ],
      "outputs": [],
      "execution_count": null,
      "cell_type": "code",
      "metadata": {
        "collapsed": false
      }
    },
    {
      "source": [
        "Marschner-Lobb image\n--------------------\n\nAdd formula for it here.\n\n"
      ],
      "metadata": {},
      "cell_type": "markdown"
    },
    {
      "source": [
        "def marschner_lobb(size=40, alpha=0.25, f_M=6.0):\n    img = sitk.PhysicalPointSource(sitk.sitkVectorFloat32, [size] * 3,\n                                   [-1] * 3, [2.0 / size] * 3)\n    imgx = sitk.VectorIndexSelectionCast(img, 0)\n    imgy = sitk.VectorIndexSelectionCast(img, 1)\n    imgz = sitk.VectorIndexSelectionCast(img, 2)\n    r = sitk.Sqrt(imgx**2 + imgy**2)\n    pr = sitk.Cos((2.0 * math.pi * f_M) * sitk.Cos((math.pi / 2.0) * r))\n    return (1.0 - sitk.Sin((math.pi / 2.0) * imgz) + alpha * (1.0 + pr)) / \\\n        (2.0 * (1.0 + alpha))\n\nmyshow(marschner_lobb(200), title='Marschner-Lobb Image')"
      ],
      "outputs": [],
      "execution_count": null,
      "cell_type": "code",
      "metadata": {
        "collapsed": false
      }
    },
    {
      "source": [
        "Interpolations\n--------------\nLet's use ``Expand`` to rescale image by a factor of 5 in all dimensions.\n\nCompare these interpolations with the image above. \n\n"
      ],
      "metadata": {},
      "cell_type": "markdown"
    },
    {
      "source": [
        "ml = marschner_lobb(40)\nml = ml[:, :, ml.GetSize()[-1] // 2]\n\nmyshow(sitk.Expand(ml, [5] * 3, sitk.sitkNearestNeighbor),\n       title=\"nearest neighbor\")\nmyshow(sitk.Expand(ml, [5] * 3, sitk.sitkLinear),\n       title=\"linear\")\nmyshow(sitk.Expand(ml, [5] * 3, sitk.sitkBSpline),\n       title=\"b-spline\")\nmyshow(sitk.Expand(ml, [5] * 3, sitk.sitkGaussian),\n       title=\"Gaussian\")\nmyshow(sitk.Expand(ml, [5] * 3, sitk.sitkHammingWindowedSinc),\n       title=\"Hamming windowed sinc\")\nmyshow(sitk.Expand(ml, [5] * 3, sitk.sitkBlackmanWindowedSinc),\n       title=\"Blackman windowed sinc\")\nmyshow(sitk.Expand(ml, [5] * 3, sitk.sitkCosineWindowedSinc),\n       title=\"Cosine windowed sinc\")\nmyshow(sitk.Expand(ml, [5] * 3, sitk.sitkWelchWindowedSinc),\n       title=\"Welch windowed sinc\")\nmyshow(sitk.Expand(ml, [5] * 3, sitk.sitkLanczosWindowedSinc),\n       title=\"Lanczos windowed sinc\")"
      ],
      "outputs": [],
      "execution_count": null,
      "cell_type": "code",
      "metadata": {
        "collapsed": false
      }
    }
  ],
  "nbformat_minor": 0,
  "metadata": {
    "language_info": {
      "file_extension": ".py",
      "mimetype": "text/x-python",
      "name": "python",
      "version": "3.4.5",
      "nbconvert_exporter": "python",
      "codemirror_mode": {
        "version": 3,
        "name": "ipython"
      },
      "pygments_lexer": "ipython3"
    },
    "kernelspec": {
      "language": "python",
      "display_name": "Python 3",
      "name": "python3"
    }
  },
  "nbformat": 4
}