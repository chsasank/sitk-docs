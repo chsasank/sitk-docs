{
  "cells": [
    {
      "source": [
        "%matplotlib inline"
      ],
      "outputs": [],
      "execution_count": null,
      "cell_type": "code",
      "metadata": {
        "collapsed": false
      }
    },
    {
      "source": [
        "\nThresholding\n============\n\nThresholding is the most basic form of segmentation. It simply labels the\npixels of an image based on the intensity range without respect to geometry\nor connectivity.\n\n"
      ],
      "metadata": {},
      "cell_type": "markdown"
    },
    {
      "source": [
        "# Author: Sasank Chilamkurthy\n# License: Apache\n# sphinx_gallery_thumbnail_number = 4\n\nimport SimpleITK as sitk\nfrom myshow import myshow, myshow3d\nfrom downloaddata import fetch_data as fdata"
      ],
      "outputs": [],
      "execution_count": null,
      "cell_type": "code",
      "metadata": {
        "collapsed": false
      }
    },
    {
      "source": [
        "Load Image\n----------\n\n"
      ],
      "metadata": {},
      "cell_type": "markdown"
    },
    {
      "source": [
        "img_T1 = sitk.ReadImage(\n    fdata(\"nac-hncma-atlas2013-Slicer4Version/Data/A1_grayT1.nrrd\"))\n\n# To visualize the labels image in RGB needs a image with 0-255 range\nimg_T1_255 = sitk.Cast(sitk.RescaleIntensity(img_T1), sitk.sitkUInt8)\n\nsize = img_T1.GetSize()\nmyshow3d(img_T1_255, zslices=range(50, size[2] - 50, 20))"
      ],
      "outputs": [],
      "execution_count": null,
      "cell_type": "code",
      "metadata": {
        "collapsed": false
      }
    },
    {
      "source": [
        "Threshold\n---------\nLet's pick a threshold 200 for thresholding.\n\n"
      ],
      "metadata": {},
      "cell_type": "markdown"
    },
    {
      "source": [
        "seg = img_T1 > 200\nmyshow(sitk.LabelOverlay(img_T1_255, seg), \"Basic Thresholding\")"
      ],
      "outputs": [],
      "execution_count": null,
      "cell_type": "code",
      "metadata": {
        "collapsed": false
      }
    },
    {
      "source": [
        "You can also use a upper and lower threshold. \n\n"
      ],
      "metadata": {},
      "cell_type": "markdown"
    },
    {
      "source": [
        "seg = sitk.BinaryThreshold(img_T1,\n                           lowerThreshold=100, upperThreshold=400, \n                           insideValue=1, outsideValue=0)\nmyshow(sitk.LabelOverlay(img_T1_255, seg), \"Binary Thresholding\")"
      ],
      "outputs": [],
      "execution_count": null,
      "cell_type": "code",
      "metadata": {
        "collapsed": false
      }
    },
    {
      "source": [
        "Otsu Thresholding\n-----------------\n\nITK has a number of histogram based automatic thresholding filters including \nHuang, MaximumEntropy, Triangle, and the popular Otsu's method. These methods \ncreate a histogram then use a heuristic to determine a threshold value.\n\nOtsu Thresholding for example, assumes that the image contains two classes \nof pixels following bi-modal histogram and calculates the optimum threshold \nseparating these two classes.\n\n"
      ],
      "metadata": {},
      "cell_type": "markdown"
    },
    {
      "source": [
        "otsu_filter = sitk.OtsuThresholdImageFilter()\notsu_filter.SetInsideValue(0)\notsu_filter.SetOutsideValue(1)\nseg = otsu_filter.Execute(img_T1)\nmyshow(sitk.LabelOverlay(img_T1_255, seg), \"Otsu Thresholding\")\n\nprint(\"Computed Threshold: {}\".format(otsu_filter.GetThreshold()))"
      ],
      "outputs": [],
      "execution_count": null,
      "cell_type": "code",
      "metadata": {
        "collapsed": false
      }
    }
  ],
  "nbformat_minor": 0,
  "metadata": {
    "language_info": {
      "file_extension": ".py",
      "mimetype": "text/x-python",
      "name": "python",
      "version": "3.4.5",
      "nbconvert_exporter": "python",
      "codemirror_mode": {
        "version": 3,
        "name": "ipython"
      },
      "pygments_lexer": "ipython3"
    },
    "kernelspec": {
      "language": "python",
      "display_name": "Python 3",
      "name": "python3"
    }
  },
  "nbformat": 4
}