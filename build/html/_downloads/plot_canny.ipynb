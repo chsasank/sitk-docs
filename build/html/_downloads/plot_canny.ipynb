{
  "nbformat": 4,
  "metadata": {
    "kernelspec": {
      "language": "python",
      "display_name": "Python 3",
      "name": "python3"
    },
    "language_info": {
      "file_extension": ".py",
      "mimetype": "text/x-python",
      "codemirror_mode": {
        "version": 3,
        "name": "ipython"
      },
      "version": "3.4.5",
      "nbconvert_exporter": "python",
      "pygments_lexer": "ipython3",
      "name": "python"
    }
  },
  "cells": [
    {
      "metadata": {
        "collapsed": false
      },
      "execution_count": null,
      "cell_type": "code",
      "source": [
        "%matplotlib inline"
      ],
      "outputs": []
    },
    {
      "metadata": {},
      "source": [
        "\n# Canny edge detector\n\n\nThe Canny filter is a multi-stage edge detector. It uses a filter based on the\nderivative of a Gaussian in order to compute the intensity of the gradients.The\nGaussian reduces the effect of noise present in the image. Then, potential\nedges are thinned down to 1-pixel curves by removing non-maximum pixels of the\ngradient magnitude. Finally, edge pixels are kept or removed using hysteresis\nthresholding on the gradient magnitude.\n\nThe Canny has three adjustable parameters: the width of the Gaussian (the\nnoisier the image, the greater the width), and the low and high threshold for\nthe hysteresis thresholding.\n\n\n"
      ],
      "cell_type": "markdown"
    },
    {
      "metadata": {
        "collapsed": false
      },
      "execution_count": null,
      "cell_type": "code",
      "source": [
        "import matplotlib.pyplot as plt\nimport SimpleITK as sitk\n\nimage = sitk.ReadImage('../example_images/lena_bw.png')\nimage = sitk.Cast(image, sitk.sitkFloat64)\n\n# Compute the Canny filter for two values of sigma\nedges1 = sitk.CannyEdgeDetection(image, lowerThreshold=5, upperThreshold=10,\n                                 variance=[1, 1])\nedges2 = sitk.CannyEdgeDetection(image, lowerThreshold=5, upperThreshold=10,\n                                 variance=[3, 3])\n\n# Convert to numpy array for display\nimage = sitk.GetArrayFromImage(image)\nedges1 = sitk.GetArrayFromImage(edges1)\nedges2 = sitk.GetArrayFromImage(edges2)\n\n# display results\nfig, (ax1, ax2, ax3) = plt.subplots(nrows=3, ncols=1, figsize=(5, 15),\n                                    sharex=True, sharey=True)\n\nax1.imshow(image, cmap=plt.cm.gray)\nax1.axis('off')\nax1.set_title('Input image', fontsize=20)\n\nax2.imshow(edges1, cmap=plt.cm.gray)\nax2.axis('off')\nax2.set_title('Canny filter, $\\sigma=1$', fontsize=20)\n\nax3.imshow(edges2, cmap=plt.cm.gray)\nax3.axis('off')\nax3.set_title('Canny filter, $\\sigma=3$', fontsize=20)\n\nfig.tight_layout()\n\nplt.show()"
      ],
      "outputs": []
    }
  ],
  "nbformat_minor": 0
}