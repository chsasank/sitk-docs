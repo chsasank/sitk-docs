{
  "nbformat": 4,
  "metadata": {
    "language_info": {
      "nbconvert_exporter": "python",
      "version": "3.4.5",
      "pygments_lexer": "ipython3",
      "codemirror_mode": {
        "version": 3,
        "name": "ipython"
      },
      "file_extension": ".py",
      "name": "python",
      "mimetype": "text/x-python"
    },
    "kernelspec": {
      "display_name": "Python 3",
      "name": "python3",
      "language": "python"
    }
  },
  "cells": [
    {
      "outputs": [],
      "execution_count": null,
      "source": [
        "%matplotlib inline"
      ],
      "cell_type": "code",
      "metadata": {
        "collapsed": false
      }
    },
    {
      "metadata": {},
      "source": [
        "\nVisualizing 2D images\n=====================\n\nIn this example, we will explore using matplotlib to display images in our\nnotebooks, and work towards developing a reusable function to display 2D,3D,\ncolor for SimpleITK images.\n\n\n"
      ],
      "cell_type": "markdown"
    },
    {
      "outputs": [],
      "execution_count": null,
      "source": [
        "import matplotlib.pyplot as plt\nimport SimpleITK as sitk\nfrom downloaddata import fetch_data as fdata"
      ],
      "cell_type": "code",
      "metadata": {
        "collapsed": false
      }
    },
    {
      "metadata": {},
      "source": [
        "SimpleITK has a built in `Show` method which saves the image to disk and\nlaunches a user configurable program ( defaults to ImageJ ), to display the\nimage.\n\n"
      ],
      "cell_type": "markdown"
    },
    {
      "outputs": [],
      "execution_count": null,
      "source": [
        "img1 = sitk.ReadImage(fdata(\"cthead1.png\"))\nsitk.Show(img1, title=\"cthead1\")\n\nimg2 = sitk.ReadImage(fdata(\"VM1111Shrink-RGB.png\"))\nsitk.Show(img2, title=\"Visible Human Head\")"
      ],
      "cell_type": "code",
      "metadata": {
        "collapsed": false
      }
    },
    {
      "metadata": {},
      "source": [
        "Plotting with ``matplotlib``\n----------------------------\nYou can also use matplotlib to show images.\n\n"
      ],
      "cell_type": "markdown"
    },
    {
      "outputs": [],
      "execution_count": null,
      "source": [
        "nda = sitk.GetArrayFromImage(img1)\nplt.imshow(nda)"
      ],
      "cell_type": "code",
      "metadata": {
        "collapsed": false
      }
    },
    {
      "outputs": [],
      "execution_count": null,
      "source": [
        "nda = sitk.GetArrayFromImage(img2)\nplt.imshow(nda)"
      ],
      "cell_type": "code",
      "metadata": {
        "collapsed": false
      }
    },
    {
      "metadata": {},
      "source": [
        "Let's write a function which directly takes Image object and shows it.\n\n"
      ],
      "cell_type": "markdown"
    },
    {
      "outputs": [],
      "execution_count": null,
      "source": [
        "def myshow(img):\n    nda = sitk.GetArrayFromImage(img)\n    plt.imshow(nda)\n    plt.show()\n\nmyshow(sitk.Expand(img2, [10] * 5))"
      ],
      "cell_type": "code",
      "metadata": {
        "collapsed": false
      }
    },
    {
      "metadata": {},
      "source": [
        "This image does not appear bigger.\n\nThere are numerous improvements that we can make:\n\n - support 3d images\n - include a title\n - use physical pixel size for axis labels\n - show the image as gray values\n\n"
      ],
      "cell_type": "markdown"
    },
    {
      "outputs": [],
      "execution_count": null,
      "source": [
        "def myshow(img, title=None, margin=0.05, dpi=80):\n    nda = sitk.GetArrayFromImage(img)\n    spacing = img.GetSpacing()\n\n    if nda.ndim == 3:\n        # fastest dim, either component or x\n        c = nda.shape[-1]\n\n        # the the number of components is 3 or 4 consider it an RGB image\n        if c not in (3, 4):\n            nda = nda[nda.shape[0] // 2, :, :]\n\n    elif nda.ndim == 4:\n        c = nda.shape[-1]\n\n        if c not in (3, 4):\n            raise RuntimeError(\"Unable to show 3D-vector Image\")\n\n        # take a z-slice\n        nda = nda[nda.shape[0] // 2, :, :, :]\n\n    ysize = nda.shape[1]\n    xsize = nda.shape[0]\n\n    # Make a figure big enough to accommodate an axis of xpixels by ypixels\n    # as well as the ticklabels, etc...\n    figsize = (1 + margin) * ysize / dpi, (1 + margin) * xsize / dpi\n\n    plt.figure(figsize=figsize, dpi=dpi, tight_layout=True)\n    ax = plt.gca()\n\n    extent = (0, ysize * spacing[0], 0, xsize * spacing[1])\n\n    t = ax.imshow(nda, extent=extent, interpolation=None)\n\n    if nda.ndim == 2:\n        t.set_cmap(\"gray\")\n\n    if(title):\n        plt.title(title)\n\n    plt.show()\n\nmyshow(sitk.Expand(img2, [2, 2]), title=\"Big Visibile Human Head\")"
      ],
      "cell_type": "code",
      "metadata": {
        "collapsed": false
      }
    },
    {
      "metadata": {},
      "source": [
        "The ``myshow``function is really useful. We will build up on it for 3d\nimages(``myshow3d``) in the next guide.\nThey have been copied into a \"myshow.py\" file so that they can be\nimported into other guides.\n\n"
      ],
      "cell_type": "markdown"
    }
  ],
  "nbformat_minor": 0
}