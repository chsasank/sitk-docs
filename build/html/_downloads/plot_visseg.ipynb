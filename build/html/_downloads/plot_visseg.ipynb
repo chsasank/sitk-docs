{
  "nbformat_minor": 0,
  "nbformat": 4,
  "metadata": {
    "language_info": {
      "mimetype": "text/x-python",
      "file_extension": ".py",
      "version": "3.4.5",
      "nbconvert_exporter": "python",
      "name": "python",
      "codemirror_mode": {
        "name": "ipython",
        "version": 3
      },
      "pygments_lexer": "ipython3"
    },
    "kernelspec": {
      "name": "python3",
      "display_name": "Python 3",
      "language": "python"
    }
  },
  "cells": [
    {
      "cell_type": "code",
      "outputs": [],
      "execution_count": null,
      "source": [
        "%matplotlib inline"
      ],
      "metadata": {
        "collapsed": false
      }
    },
    {
      "cell_type": "markdown",
      "metadata": {},
      "source": [
        "\nVisualizing Segmentations\n=========================\n\nIn previous guides, we've seen how to visualize 2d and 3d images. \nWe've written functions ``myshow`` and ``myshow3d`` which we will be using in \nthis guide.\n\nWe will also look at the subtleties of working with image filters that require\nthe input images' to be overlapping.\n\n\n"
      ]
    },
    {
      "cell_type": "code",
      "outputs": [],
      "execution_count": null,
      "source": [
        "import matplotlib.pyplot as plt\nimport SimpleITK as sitk\nfrom downloaddata import fetch_data as fdata\nfrom myshow import myshow, myshow3d"
      ],
      "metadata": {
        "collapsed": false
      }
    },
    {
      "cell_type": "markdown",
      "metadata": {},
      "source": [
        "LabelOverlay In 2D\n------------------\nWe start by loading a segmented image. As the segmentation is just an image\nwith integral data, we can display the labels as we would any other image.\n\n"
      ]
    },
    {
      "cell_type": "code",
      "outputs": [],
      "execution_count": null,
      "source": [
        "img1 = sitk.ReadImage(fdata(\"cthead1.png\"))\nimg1_seg = sitk.ReadImage(fdata(\"2th_cthead1.png\"))\n\nmyshow(img1, title=\"cthead1\")\nmyshow(img1_seg, title=\"Label Image as Grayscale\")"
      ],
      "metadata": {
        "collapsed": false
      }
    },
    {
      "cell_type": "markdown",
      "metadata": {},
      "source": [
        "We can also map the scalar label image to a color image as shown below.\n\n"
      ]
    },
    {
      "cell_type": "code",
      "outputs": [],
      "execution_count": null,
      "source": [
        "myshow(sitk.LabelToRGB(img1_seg), title=\"Label Image as RGB\")"
      ],
      "metadata": {
        "collapsed": false
      }
    },
    {
      "cell_type": "markdown",
      "metadata": {},
      "source": [
        "Most filters which take multiple images as arguments require that the images\noccupy the same physical space. That is the pixel you are operating must\nrefer to the same location. Luckily for us our image and labels do occupy the\nsame physical space, allowing us to overlay the segmentation onto the\noriginal image.\n\n"
      ]
    },
    {
      "cell_type": "code",
      "outputs": [],
      "execution_count": null,
      "source": [
        "myshow(sitk.LabelOverlay(img1, img1_seg), title=\"Label Overlayed\")"
      ],
      "metadata": {
        "collapsed": false
      }
    },
    {
      "cell_type": "markdown",
      "metadata": {},
      "source": [
        "We can also overlay the labels as contours.\n\n"
      ]
    },
    {
      "cell_type": "code",
      "outputs": [],
      "execution_count": null,
      "source": [
        "myshow(sitk.LabelOverlay(img1, sitk.LabelContour(img1_seg), 1.0))"
      ],
      "metadata": {
        "collapsed": false
      }
    },
    {
      "cell_type": "markdown",
      "metadata": {},
      "source": [
        "LabelOverlay In 3D\n------------------\n\nThe Surgical Planning Laboratory at Brigham and Women's Hospital has a wonderful\n`Multi-modality MRI-based Atlas of the Brain <http://www.spl.harvard.edu/publications/item/view/2037>`_ that we can use.\n\n"
      ]
    },
    {
      "cell_type": "code",
      "outputs": [],
      "execution_count": null,
      "source": [
        "img_T1 = sitk.ReadImage(\n    fdata(\"nac-hncma-atlas2013-Slicer4Version/Data/A1_grayT1.nrrd\"))\nimg_T2 = sitk.ReadImage(\n    fdata(\"nac-hncma-atlas2013-Slicer4Version/Data/A1_grayT2.nrrd\"))\nimg_labels = sitk.ReadImage(\n    fdata(\"nac-hncma-atlas2013-Slicer4Version/Data/hncma-atlas.nrrd\"))\n\nmyshow(img_T1, title='T1')\nmyshow(img_T2, title='T2')\nmyshow(sitk.LabelToRGB(img_labels), title='lables')"
      ],
      "metadata": {
        "collapsed": false
      }
    },
    {
      "cell_type": "markdown",
      "metadata": {},
      "source": [
        "Physical Space Issues\n---------------------\nWhy doesn't this work? The images do not overlap in physical space.\n\nAll the functions in SimpleITK work on underlying physical space. Thefore,\nmismatch in physical space like image origin etc. will raise errors.\n\n"
      ]
    },
    {
      "cell_type": "code",
      "outputs": [],
      "execution_count": null,
      "source": [
        "try:\n    size = img_T1.GetSize()\n    myshow3d(sitk.LabelOverlay(img_T1, img_labels),\n             yslices=range(50, size[1] - 50, 20),\n             zslices=range(50, size[2] - 50, 20), dpi=30)\nexcept Exception as e:\n    print(e)"
      ],
      "metadata": {
        "collapsed": false
      }
    },
    {
      "cell_type": "markdown",
      "metadata": {},
      "source": [
        "Two ways to solve our problem:\n\n1. resample the labels onto the image grid\n2. resample the image onto the label grid.\n\nThe difference between the two from a computation standpoint depends on the\ngrid sizes and on the interpolator used to estimate values at non-grid\nlocations.\n\nNote interpolating a label image with an interpolator that can generate\nnon-label values is problematic as you may end up with an image that has more\nclasses/labels than your original. This is why we only use the nearest\nneighbor interpolator when working with label images.\n\n**Option 1**: Resample the label image using the identity transformation\n\n"
      ]
    },
    {
      "cell_type": "code",
      "outputs": [],
      "execution_count": null,
      "source": [
        "resampled_img_labels = sitk.Resample(img_labels, img_T1, sitk.Transform(),\n                                     sitk.sitkNearestNeighbor, 0.0,\n                                     img_labels.GetPixelID())"
      ],
      "metadata": {
        "collapsed": false
      }
    },
    {
      "cell_type": "markdown",
      "metadata": {},
      "source": [
        "Overlay onto the T1 image, requires us to rescale the intensity of the T1\nimage to [0,255] and cast it so that it can be combined with the color\noverlay (we use an alpha blending of 0.5).\n\n"
      ]
    },
    {
      "cell_type": "code",
      "outputs": [],
      "execution_count": null,
      "source": [
        "rescaled_T1 = sitk.Cast(sitk.RescaleIntensity(img_T1), sitk.sitkUInt8)\nmyshow3d(sitk.LabelOverlay(rescaled_T1, resampled_img_labels, 0.5),\n         yslices=range(50, size[1] - 50, 20),\n         zslices=range(50, size[2] - 50, 20),\n         dpi=100)"
      ],
      "metadata": {
        "collapsed": false
      }
    },
    {
      "cell_type": "markdown",
      "metadata": {},
      "source": [
        "**Option 2**: Resample the T1 image using the identity transformation.\n\n"
      ]
    },
    {
      "cell_type": "code",
      "outputs": [],
      "execution_count": null,
      "source": [
        "resampled_T1 = sitk.Resample(img_T1, img_labels, sitk.Transform(),\n                             sitk.sitkLinear, 0.0, img_T1.GetPixelID())"
      ],
      "metadata": {
        "collapsed": false
      }
    },
    {
      "cell_type": "markdown",
      "metadata": {},
      "source": [
        "As above, we need to use rescale the intensity of resampled T1\n\n"
      ]
    },
    {
      "cell_type": "code",
      "outputs": [],
      "execution_count": null,
      "source": [
        "rescaled_T1 = sitk.Cast(sitk.RescaleIntensity(resampled_T1), sitk.sitkUInt8)\nmyshow3d(sitk.LabelOverlay(rescaled_T1, img_labels, 0.5),\n         yslices=range(50, size[1] - 50, 20),\n         zslices=range(50, size[2] - 50, 20),\n         dpi=100)"
      ],
      "metadata": {
        "collapsed": false
      }
    },
    {
      "cell_type": "markdown",
      "metadata": {},
      "source": [
        "Why are the two displays above different?\n(hint: in the calls to the \"myshow3d\" function the indexes of the y and z\nslices are the same).\n\n\n"
      ]
    }
  ]
}